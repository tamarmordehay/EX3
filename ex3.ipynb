{
 "cells": [
  {
   "cell_type": "code",
   "execution_count": 1,
   "metadata": {},
   "outputs": [
    {
     "name": "stderr",
     "output_type": "stream",
     "text": [
      "C:\\Users\\tamar\\anaconda3\\lib\\site-packages\\pandas\\core\\computation\\expressions.py:20: UserWarning: Pandas requires version '2.7.3' or newer of 'numexpr' (version '2.7.1' currently installed).\n",
      "  from pandas.core.computation.check import NUMEXPR_INSTALLED\n"
     ]
    }
   ],
   "source": [
    "import pandas as pd \n",
    "import numpy as np\n",
    "import socket\n",
    "import requests\n",
    "import googlemaps\n",
    "import json\n",
    "\n",
    "api_key='AIza___-CcZL3xJp4'\n",
    "\n",
    "with open('dests.txt', \"r\") as file:\n",
    "    destinations = file.readlines()\n",
    "    destinations = [line.rstrip() for line in destinations]\n",
    "\n"
   ]
  },
  {
   "cell_type": "code",
   "execution_count": 2,
   "metadata": {},
   "outputs": [
    {
     "name": "stdout",
     "output_type": "stream",
     "text": [
      "Istanbul 1815.227\n",
      "Amsterdam 4539.165\n",
      "Valletta 3792.883\n",
      "Basel 4092.805\n",
      "Doha 2164.477\n"
     ]
    }
   ],
   "source": [
    "google_maps = googlemaps.Client(key='AIza___-CcZL3xJp4')\n",
    "\n",
    "origin = 'Tel Aviv-Yafo, Israel'\n",
    "\n",
    "distances = {}\n",
    "for destination in destinations:\n",
    "    result = google_maps.distance_matrix(origin, destination)\n",
    "    distance = result['rows'][0]['elements'][0]['distance']['value'] / 1000\n",
    "    distances[destination] = distance\n",
    "\n",
    "dis_Istanbul = distances['Istanbul']\n",
    "dis_Amsterdam = distances['Amsterdam']\n",
    "dis_Valletta = distances['Valletta']\n",
    "dis_Basel = distances['Basel']\n",
    "dis_Doha = distances['Doha']\n",
    "\n",
    "print('Istanbul', dis_Istanbul)\n",
    "print('Amsterdam', dis_Amsterdam)\n",
    "print('Valletta', dis_Valletta)\n",
    "print('Basel', dis_Basel)\n",
    "print('Doha', dis_Doha)\n"
   ]
  },
  {
   "cell_type": "code",
   "execution_count": 3,
   "metadata": {},
   "outputs": [
    {
     "name": "stdout",
     "output_type": "stream",
     "text": [
      "Istanbul 1262\n",
      "Amsterdam 2890\n",
      "Valletta 3050\n",
      "Basel 2642\n",
      "Doha 1358\n"
     ]
    }
   ],
   "source": [
    "travel_times = []\n",
    "\n",
    "for destination in destinations:\n",
    "    url = \"https://maps.googleapis.com/maps/api/distancematrix/json?units=metric&origins=Tel%20Aviv&destinations={}&key=AIza___-CcZL3xJp4\".format(destination)\n",
    "    response = requests.get(url)\n",
    "    data = response.json()\n",
    "    travel_time = data[\"rows\"][0][\"elements\"][0][\"duration\"][\"value\"] // 60\n",
    "    travel_times.append(travel_time)\n",
    "\n",
    "time_Istanbul = travel_times[0]\n",
    "time_Amsterdam = travel_times[1]\n",
    "time_Valletta = travel_times[2]\n",
    "time_Basel = travel_times[3]\n",
    "time_Doha = travel_times[4]\n",
    "\n",
    "print('Istanbul', time_Istanbul)\n",
    "print('Amsterdam', time_Amsterdam)\n",
    "print('Valletta', time_Valletta)\n",
    "print('Basel', time_Basel)\n",
    "print('Doha', time_Doha)\n"
   ]
  },
  {
   "cell_type": "code",
   "execution_count": 4,
   "metadata": {},
   "outputs": [],
   "source": [
    "\n",
    "address=\"Istanbul, Turkey\"\n",
    "url=\"https://maps.googleapis.com/maps/api/geocode/json?address=%s&key=%s\" % (address,api_key)\n",
    "response = requests.get(url).json()\n",
    "lat_Istanbul = response['results'][0]['geometry']['location']['lat']\n",
    "lng_Istanbul = response['results'][0]['geometry']['location']['lng']\n",
    "\n",
    "\n",
    "address=\"Amsterdam, Netherlands\"\n",
    "url=\"https://maps.googleapis.com/maps/api/geocode/json?address=%s&key=%s\" % (address,api_key)\n",
    "response = requests.get(url).json()\n",
    "lat_Amsterdam = response['results'][0]['geometry']['location']['lat']\n",
    "lng_Amsterdam = response['results'][0]['geometry']['location']['lng']\n",
    "\n",
    "\n",
    "address=\"Valletta, Malta\"\n",
    "url=\"https://maps.googleapis.com/maps/api/geocode/json?address=%s&key=%s\" % (address,api_key)\n",
    "response = requests.get(url).json()\n",
    "lat_Valletta = response['results'][0]['geometry']['location']['lat']\n",
    "lng_Valletta = response['results'][0]['geometry']['location']['lng']\n",
    "\n",
    "\n",
    "address=\"Basel, Switzerland\"\n",
    "url=\"https://maps.googleapis.com/maps/api/geocode/json?address=%s&key=%s\" % (address,api_key)\n",
    "response = requests.get(url).json()\n",
    "lat_Basel = response['results'][0]['geometry']['location']['lat']\n",
    "lng_Basel = response['results'][0]['geometry']['location']['lng']\n",
    "\n",
    "\n",
    "address=\"Doha, Qatar\"\n",
    "url=\"https://maps.googleapis.com/maps/api/geocode/json?address=%s&key=%s\" % (address,api_key)\n",
    "response = requests.get(url).json()\n",
    "lat_Doha = response['results'][0]['geometry']['location']['lat']\n",
    "lng_Doha = response['results'][0]['geometry']['location']['lng']"
   ]
  },
  {
   "cell_type": "code",
   "execution_count": 5,
   "metadata": {},
   "outputs": [
    {
     "data": {
      "text/html": [
       "<div>\n",
       "<style scoped>\n",
       "    .dataframe tbody tr th:only-of-type {\n",
       "        vertical-align: middle;\n",
       "    }\n",
       "\n",
       "    .dataframe tbody tr th {\n",
       "        vertical-align: top;\n",
       "    }\n",
       "\n",
       "    .dataframe thead th {\n",
       "        text-align: right;\n",
       "    }\n",
       "</style>\n",
       "<table border=\"1\" class=\"dataframe\">\n",
       "  <thead>\n",
       "    <tr style=\"text-align: right;\">\n",
       "      <th></th>\n",
       "      <th>Target</th>\n",
       "      <th>Distance(km)</th>\n",
       "      <th>Duration(min)</th>\n",
       "      <th>Longitude</th>\n",
       "      <th>latitude</th>\n",
       "    </tr>\n",
       "  </thead>\n",
       "  <tbody>\n",
       "    <tr>\n",
       "      <th>0</th>\n",
       "      <td>Istanbul</td>\n",
       "      <td>1815.227</td>\n",
       "      <td>1262</td>\n",
       "      <td>41.008238</td>\n",
       "      <td>28.978359</td>\n",
       "    </tr>\n",
       "    <tr>\n",
       "      <th>1</th>\n",
       "      <td>Amsterdam</td>\n",
       "      <td>4539.165</td>\n",
       "      <td>2890</td>\n",
       "      <td>52.367573</td>\n",
       "      <td>4.904139</td>\n",
       "    </tr>\n",
       "    <tr>\n",
       "      <th>2</th>\n",
       "      <td>Valletta</td>\n",
       "      <td>3792.883</td>\n",
       "      <td>3050</td>\n",
       "      <td>35.899237</td>\n",
       "      <td>14.514100</td>\n",
       "    </tr>\n",
       "    <tr>\n",
       "      <th>3</th>\n",
       "      <td>Basel</td>\n",
       "      <td>4092.805</td>\n",
       "      <td>2642</td>\n",
       "      <td>47.559599</td>\n",
       "      <td>7.588576</td>\n",
       "    </tr>\n",
       "    <tr>\n",
       "      <th>4</th>\n",
       "      <td>Doha</td>\n",
       "      <td>2164.477</td>\n",
       "      <td>1358</td>\n",
       "      <td>25.285447</td>\n",
       "      <td>51.531040</td>\n",
       "    </tr>\n",
       "  </tbody>\n",
       "</table>\n",
       "</div>"
      ],
      "text/plain": [
       "      Target  Distance(km)  Duration(min)  Longitude   latitude\n",
       "0   Istanbul      1815.227           1262  41.008238  28.978359\n",
       "1  Amsterdam      4539.165           2890  52.367573   4.904139\n",
       "2   Valletta      3792.883           3050  35.899237  14.514100\n",
       "3      Basel      4092.805           2642  47.559599   7.588576\n",
       "4       Doha      2164.477           1358  25.285447  51.531040"
      ]
     },
     "execution_count": 5,
     "metadata": {},
     "output_type": "execute_result"
    }
   ],
   "source": [
    "df = pd.DataFrame([['Istanbul', dis_Istanbul, time_Istanbul, lat_Istanbul, lng_Istanbul],\n",
    "                   ['Amsterdam', dis_Amsterdam, time_Amsterdam, lat_Amsterdam, lng_Amsterdam],\n",
    "                   ['Valletta', dis_Valletta, time_Valletta, lat_Valletta, lng_Valletta],\n",
    "                   ['Basel', dis_Basel, time_Basel, lat_Basel, lng_Basel],\n",
    "                   ['Doha', dis_Doha, time_Doha, lat_Doha, lng_Doha]],    \n",
    "                  columns=['Target','Distance(km)','Duration(min)','Longitude','latitude']) \n",
    "df\n"
   ]
  },
  {
   "cell_type": "code",
   "execution_count": 7,
   "metadata": {},
   "outputs": [
    {
     "data": {
      "text/html": [
       "<div>\n",
       "<style scoped>\n",
       "    .dataframe tbody tr th:only-of-type {\n",
       "        vertical-align: middle;\n",
       "    }\n",
       "\n",
       "    .dataframe tbody tr th {\n",
       "        vertical-align: top;\n",
       "    }\n",
       "\n",
       "    .dataframe thead th {\n",
       "        text-align: right;\n",
       "    }\n",
       "</style>\n",
       "<table border=\"1\" class=\"dataframe\">\n",
       "  <thead>\n",
       "    <tr style=\"text-align: right;\">\n",
       "      <th></th>\n",
       "      <th>Distance(km)</th>\n",
       "    </tr>\n",
       "    <tr>\n",
       "      <th>Target</th>\n",
       "      <th></th>\n",
       "    </tr>\n",
       "  </thead>\n",
       "  <tbody>\n",
       "    <tr>\n",
       "      <th>Amsterdam</th>\n",
       "      <td>4539.165</td>\n",
       "    </tr>\n",
       "    <tr>\n",
       "      <th>Basel</th>\n",
       "      <td>4092.805</td>\n",
       "    </tr>\n",
       "    <tr>\n",
       "      <th>Doha</th>\n",
       "      <td>2164.477</td>\n",
       "    </tr>\n",
       "  </tbody>\n",
       "</table>\n",
       "</div>"
      ],
      "text/plain": [
       "           Distance(km)\n",
       "Target                 \n",
       "Amsterdam      4539.165\n",
       "Basel          4092.805\n",
       "Doha           2164.477"
      ]
     },
     "execution_count": 7,
     "metadata": {},
     "output_type": "execute_result"
    }
   ],
   "source": [
    "a = df[['Target','Distance(km)']].groupby(['Target']).max(reversed)\n",
    "a.head(3)"
   ]
  },
  {
   "cell_type": "code",
   "execution_count": null,
   "metadata": {},
   "outputs": [],
   "source": []
  },
  {
   "cell_type": "code",
   "execution_count": null,
   "metadata": {},
   "outputs": [],
   "source": []
  },
  {
   "cell_type": "code",
   "execution_count": null,
   "metadata": {},
   "outputs": [],
   "source": []
  }
 ],
 "metadata": {
  "kernelspec": {
   "display_name": "Python 3",
   "language": "python",
   "name": "python3"
  },
  "language_info": {
   "codemirror_mode": {
    "name": "ipython",
    "version": 3
   },
   "file_extension": ".py",
   "mimetype": "text/x-python",
   "name": "python",
   "nbconvert_exporter": "python",
   "pygments_lexer": "ipython3",
   "version": "3.8.3"
  }
 },
 "nbformat": 4,
 "nbformat_minor": 4
}
